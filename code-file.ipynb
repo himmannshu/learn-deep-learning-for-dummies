{
 "cells": [
  {
   "cell_type": "markdown",
   "metadata": {},
   "source": [
    "# Introduction to Deep Learning with PyTorch\n",
    "----"
   ]
  },
  {
   "cell_type": "markdown",
   "metadata": {},
   "source": [
    "Course link: https://app.datacamp.com/learn/courses/introduction-to-deep-learning-with-pytorch"
   ]
  },
  {
   "cell_type": "markdown",
   "metadata": {},
   "source": [
    "### Installing necessary libraries"
   ]
  },
  {
   "cell_type": "code",
   "execution_count": 27,
   "metadata": {},
   "outputs": [],
   "source": [
    "# %pip install torch numpy pandas matplotlib"
   ]
  },
  {
   "cell_type": "code",
   "execution_count": 28,
   "metadata": {},
   "outputs": [],
   "source": [
    "# %run conda-env.py"
   ]
  },
  {
   "cell_type": "markdown",
   "metadata": {},
   "source": [
    "![neural-network-overview](images/neural-network-overview.png)"
   ]
  },
  {
   "cell_type": "markdown",
   "metadata": {},
   "source": [
    "![venn-diagram-ai-ml-deeplearning](images/venn-diagram-ai-ml-deeplearning.png)"
   ]
  },
  {
   "cell_type": "markdown",
   "metadata": {},
   "source": [
    "# Torch code snippets"
   ]
  },
  {
   "cell_type": "code",
   "execution_count": 29,
   "metadata": {},
   "outputs": [],
   "source": [
    "import torch"
   ]
  },
  {
   "cell_type": "markdown",
   "metadata": {},
   "source": [
    "## Tensor Attributes"
   ]
  },
  {
   "cell_type": "markdown",
   "metadata": {},
   "source": [
    "### 1. Tensor Shape"
   ]
  },
  {
   "cell_type": "code",
   "execution_count": 30,
   "metadata": {},
   "outputs": [
    {
     "data": {
      "text/plain": [
       "torch.Size([2, 3])"
      ]
     },
     "execution_count": 30,
     "metadata": {},
     "output_type": "execute_result"
    }
   ],
   "source": [
    "Lst = [[1, 2, 3], [4, 5, 6]]\n",
    "tensor = torch.tensor(Lst)\n",
    "tensor.shape"
   ]
  },
  {
   "cell_type": "markdown",
   "metadata": {},
   "source": [
    "### 2. Tensor Data Type"
   ]
  },
  {
   "cell_type": "code",
   "execution_count": 31,
   "metadata": {},
   "outputs": [
    {
     "data": {
      "text/plain": [
       "torch.int64"
      ]
     },
     "execution_count": 31,
     "metadata": {},
     "output_type": "execute_result"
    }
   ],
   "source": [
    "tensor.dtype"
   ]
  },
  {
   "cell_type": "markdown",
   "metadata": {},
   "source": [
    "### 3. Tensor Device"
   ]
  },
  {
   "cell_type": "code",
   "execution_count": 32,
   "metadata": {},
   "outputs": [
    {
     "data": {
      "text/plain": [
       "device(type='cpu')"
      ]
     },
     "execution_count": 32,
     "metadata": {},
     "output_type": "execute_result"
    }
   ],
   "source": [
    "tensor.device"
   ]
  },
  {
   "cell_type": "markdown",
   "metadata": {},
   "source": [
    "## Creating our own Neural Network\n",
    "----\n",
    "![creating-neural-network-1](images/creating-neural-network-1.png)"
   ]
  },
  {
   "cell_type": "code",
   "execution_count": 33,
   "metadata": {},
   "outputs": [],
   "source": [
    "import torch.nn as nn"
   ]
  },
  {
   "cell_type": "code",
   "execution_count": 34,
   "metadata": {},
   "outputs": [],
   "source": [
    "# Create input_tensor with three features\n",
    "input_tensor = torch.tensor(\n",
    "    [[0.342, 0.543, -0.4533]]\n",
    ")"
   ]
  },
  {
   "cell_type": "markdown",
   "metadata": {},
   "source": [
    "A linear layer takes an input, applied a linear function, and returns output.\n",
    "\n",
    "What happens in a linear layer is 'For input 'X', weights 'W0' and bias 'b0', the linear layer performs\n",
    "\n",
    "y0 = W0*X + b0"
   ]
  },
  {
   "cell_type": "markdown",
   "metadata": {},
   "source": [
    "In PyTorch: Output = W0 @ input + b0\n",
    "\n",
    "So when we call the nn.linear function below, it calls the Weights and Biases randomly so they are not yet useful. But we tune them in models so the output is meaningful."
   ]
  },
  {
   "cell_type": "code",
   "execution_count": 35,
   "metadata": {},
   "outputs": [],
   "source": [
    "# Define our first linear layer. in_features is the number of input layers and out_features is the number of output layers. Look at the image under 'Creating our own Neural Network'.\n",
    "linear_layer = nn.Linear(in_features=3, out_features=2)"
   ]
  },
  {
   "cell_type": "code",
   "execution_count": 36,
   "metadata": {},
   "outputs": [
    {
     "data": {
      "text/plain": [
       "tensor([[-0.5884,  0.2708]], grad_fn=<AddmmBackward0>)"
      ]
     },
     "execution_count": 36,
     "metadata": {},
     "output_type": "execute_result"
    }
   ],
   "source": [
    "# Pass input through linear layer\n",
    "output = linear_layer(input_tensor)\n",
    "\n",
    "output"
   ]
  },
  {
   "cell_type": "markdown",
   "metadata": {},
   "source": [
    "### Getting to know the linear layer operation\n",
    "\n",
    "- Each linear layer has a .weight and .bias\n",
    "- Each linear layer multiples its respective input with layer weights and adds biases\n",
    "- Even with multiple stacked linear layers, output still has linear relationship with input."
   ]
  },
  {
   "cell_type": "code",
   "execution_count": 37,
   "metadata": {},
   "outputs": [
    {
     "data": {
      "text/plain": [
       "Parameter containing:\n",
       "tensor([[-0.5134, -0.3167,  0.4947],\n",
       "        [-0.0271,  0.1013, -0.2174]], requires_grad=True)"
      ]
     },
     "execution_count": 37,
     "metadata": {},
     "output_type": "execute_result"
    }
   ],
   "source": [
    "linear_layer.weight"
   ]
  },
  {
   "cell_type": "code",
   "execution_count": 38,
   "metadata": {},
   "outputs": [
    {
     "data": {
      "text/plain": [
       "Parameter containing:\n",
       "tensor([-0.0166,  0.1265], requires_grad=True)"
      ]
     },
     "execution_count": 38,
     "metadata": {},
     "output_type": "execute_result"
    }
   ],
   "source": [
    "linear_layer.bias"
   ]
  },
  {
   "cell_type": "markdown",
   "metadata": {},
   "source": [
    "### Lets visualize the Linear_layers with their weights and biases"
   ]
  },
  {
   "cell_type": "code",
   "execution_count": 39,
   "metadata": {},
   "outputs": [
    {
     "name": "stderr",
     "output_type": "stream",
     "text": [
      "/var/folders/ns/jv7pb5cs01nc0m_8788fhd680000gn/T/ipykernel_3176/4206505998.py:41: UserWarning: This figure includes Axes that are not compatible with tight_layout, so results might be incorrect.\n",
      "  plt.tight_layout()\n"
     ]
    },
    {
     "data": {
      "image/png": "[encoded data removed]",
      "text/plain": [
       "<Figure size 1200x600 with 1 Axes>"
      ]
     },
     "metadata": {},
     "output_type": "display_data"
    },
    {
     "name": "stdout",
     "output_type": "stream",
     "text": [
      "Output tensor:\n",
      "tensor([[-0.5884,  0.2708]], grad_fn=<AddmmBackward0>)\n"
     ]
    }
   ],
   "source": [
    "import matplotlib.pyplot as plt\n",
    "import networkx as nx\n",
    "\n",
    "def visualize_linear_layer(linear_layer, input_tensor, output_tensor):\n",
    "    # Create a directed graph\n",
    "    G = nx.DiGraph()\n",
    "\n",
    "    # Add input nodes\n",
    "    for i in range(input_tensor.shape[1]):\n",
    "        G.add_node(f\"Input {i+1}\", pos=(0, i))\n",
    "\n",
    "    # Add output nodes\n",
    "    for i in range(output_tensor.shape[1]):\n",
    "        G.add_node(f\"Output {i+1}\", pos=(2, i))\n",
    "\n",
    "    # Add edges with weights\n",
    "    for i in range(input_tensor.shape[1]):\n",
    "        for j in range(output_tensor.shape[1]):\n",
    "            weight = linear_layer.weight[j, i].item()\n",
    "            G.add_edge(f\"Input {i+1}\", f\"Output {j+1}\", weight=round(weight, 4))\n",
    "\n",
    "    # Set up the plot\n",
    "    plt.figure(figsize=(12, 6))\n",
    "    pos = nx.get_node_attributes(G, 'pos')\n",
    "\n",
    "    # Draw the graph\n",
    "    nx.draw(G, pos, with_labels=True, node_color='lightblue', \n",
    "            node_size=3000, font_size=10, font_weight='bold')\n",
    "\n",
    "    # Add edge labels (weights) with adjusted positions\n",
    "    edge_labels = nx.get_edge_attributes(G, 'weight')\n",
    "    nx.draw_networkx_edge_labels(G, pos, edge_labels=edge_labels, label_pos=0.3)\n",
    "\n",
    "    # Add bias labels\n",
    "    for i, bias in enumerate(linear_layer.bias):\n",
    "        plt.text(2.1, i, f'Bias: {bias.item():.4f}', \n",
    "                 fontsize=9, verticalalignment='center')\n",
    "\n",
    "    plt.title(\"Linear Layer Visualization\")\n",
    "    plt.axis('off')\n",
    "    plt.tight_layout()\n",
    "    plt.show()\n",
    "\n",
    "# Visualize the linear layer\n",
    "visualize_linear_layer(linear_layer, input_tensor, output)\n",
    "\n",
    "# Print the output tensor\n",
    "print(\"Output tensor:\")\n",
    "print(output)"
   ]
  },
  {
   "cell_type": "markdown",
   "metadata": {},
   "source": [
    "Networks with only linear layers are called **fully connected layers**. Each neuron in one layer is connected to each neuron in the next layer."
   ]
  },
  {
   "cell_type": "markdown",
   "metadata": {},
   "source": [
    "# Each **nn.Linear** line of code is a Linear Layer\n",
    "\n",
    "Here is a visual\n",
    "\n",
    "![neural-network-linear-layers](images/neural-network-linear-layers.png)"
   ]
  },
  {
   "cell_type": "markdown",
   "metadata": {},
   "source": [
    "## Stacking layers with nn.Sequential()\n",
    "- A PyTorch container that allows us to stack multiple neural network modules in sequence."
   ]
  },
  {
   "cell_type": "code",
   "execution_count": 40,
   "metadata": {},
   "outputs": [
    {
     "data": {
      "text/plain": [
       "Sequential(\n",
       "  (0): Linear(in_features=10, out_features=18, bias=True)\n",
       "  (1): Linear(in_features=18, out_features=20, bias=True)\n",
       "  (2): Linear(in_features=20, out_features=5, bias=True)\n",
       ")"
      ]
     },
     "execution_count": 40,
     "metadata": {},
     "output_type": "execute_result"
    }
   ],
   "source": [
    "# Create network with three linear layers\n",
    "model = nn.Sequential(\n",
    "    nn.Linear (10, 18),\n",
    "    nn.Linear (18, 20),\n",
    "    nn.Linear (20, 5)\n",
    ")\n",
    "model"
   ]
  },
  {
   "cell_type": "code",
   "execution_count": 41,
   "metadata": {},
   "outputs": [
    {
     "name": "stdout",
     "output_type": "stream",
     "text": [
      "This is a 1x10 dimentions tensor tensor([[ 0.3420,  0.5430, -0.4533,  0.4340, -0.3435,  0.3523, -0.3424,  0.3453,\n",
      "          0.8751, -0.3425]])\n"
     ]
    }
   ],
   "source": [
    "# Create input_tensor with ten features\n",
    "input_tensor_2 = torch.tensor(\n",
    "    [[0.342, 0.543, -0.4533, 0.434, -0.3435, 0.3523, -0.3424, 0.3453, 0.87509, -0.3425]]\n",
    ")\n",
    "\n",
    "print('This is a 1x10 dimentions tensor', input_tensor_2)"
   ]
  },
  {
   "cell_type": "code",
   "execution_count": 42,
   "metadata": {},
   "outputs": [
    {
     "name": "stdout",
     "output_type": "stream",
     "text": [
      "here we received an output of 1x5 dimensions tensor([[ 0.0419,  0.1981, -0.0241, -0.1623,  0.0158]],\n",
      "       grad_fn=<AddmmBackward0>)\n"
     ]
    }
   ],
   "source": [
    "output_tensor = model(input_tensor_2)\n",
    "print('here we received an output of 1x5 dimensions', output_tensor)"
   ]
  },
  {
   "cell_type": "markdown",
   "metadata": {},
   "source": [
    "## Exercise #1"
   ]
  },
  {
   "cell_type": "markdown",
   "metadata": {},
   "source": [
    "### Your first neural network\n",
    "In this exercise, you will implement a small neural network containing two linear layers. The first layer takes an eight-dimensional input, and the last layer outputs a one-dimensional tensor.\n",
    "\n",
    "The torch package and the torch.nn package have already been imported for you.\n",
    "\n",
    "Create a neural network of two linear layers that takes a tensor of dimensions 1x8 as input, representing 8 features, and outputs a tensor of dimensions 1x1\n",
    "Use any output dimension for the first layer you want."
   ]
  },
  {
   "cell_type": "code",
   "execution_count": 43,
   "metadata": {},
   "outputs": [
    {
     "name": "stdout",
     "output_type": "stream",
     "text": [
      "tensor([[-0.3265]], grad_fn=<AddmmBackward0>)\n"
     ]
    }
   ],
   "source": [
    "import torch\n",
    "import torch.nn as nn\n",
    "\n",
    "input_tensor = torch.Tensor([[2, 3, 6, 7, 9, 3, 2, 1]])\n",
    "\n",
    "# Implement a small neural network with exactly two linear layers\n",
    "model = nn.Sequential(\n",
    "    nn.Linear(8, 4),  # First linear layer with an intermediate output dimension\n",
    "    nn.Linear(4, 1)   # Second linear layer to produce the final output\n",
    ")\n",
    "\n",
    "output = model(input_tensor)\n",
    "print(output)"
   ]
  },
  {
   "cell_type": "markdown",
   "metadata": {},
   "source": [
    "### Stacking linear layers\n",
    "Nice work building your first network with two linear layers. Let's stack some more layers. Remember that a neural network can have as many hidden layers as we want, provided the inputs and outputs line up.\n",
    "\n",
    "The aim of this exercise is for you to become comfortable thinking about the inputs and outputs of each successive layer in a PyTorch neural network.\n",
    "\n",
    "This network is designed to ingest the following input:\n",
    "\n",
    "`\n",
    "input_tensor = torch.Tensor([[2, 3, 6, 7, 9, 3, 2, 1, 5, 3, 6, 9]])\n",
    "`\n",
    "\n",
    "- Instructions: Reorder the items provided to create a neural network with three hidden layers and an output of size 2."
   ]
  },
  {
   "cell_type": "code",
   "execution_count": 44,
   "metadata": {},
   "outputs": [
    {
     "name": "stdout",
     "output_type": "stream",
     "text": [
      "tensor([[ 1.4087, -2.3059]], grad_fn=<AddmmBackward0>)\n"
     ]
    }
   ],
   "source": [
    "# Explanation for the code below:\n",
    "# 1. It takes an input tensor with 12 elements, as specified in the question.\n",
    "# 2. It has three hidden layers:\n",
    "#    - The first layer transforms from 12 to 20 dimensions\n",
    "#    - The second layer transforms from 20 to 14 dimensions\n",
    "#    - The third layer transforms from 14 to 3 dimensions\n",
    "# 3. The final layer outputs a tensor of size 2, as required.\n",
    "\n",
    "# The nn.Sequential module is used to stack these layers in order. Each nn.Linear layer performs a linear transformation on its input.\n",
    "# The dimensions of each layer are chosen arbitrarily, but ensure that the output of one layer matches the input of the next.\n",
    "# This structure allows the network to learn increasingly complex representations of the input data as it passes through each layer.\n",
    "\n",
    "input_tensor = torch.Tensor([[2, 3, 6, 7, 9, 3, 2, 1, 5, 3, 6, 9]])\n",
    "\n",
    "model = nn.Sequential(\n",
    "    nn.Linear(12, 20),  # First hidden layer\n",
    "    nn.Linear(20, 14),   # Second hidden layer\n",
    "    nn.Linear(14, 3),    # Third hidden layer\n",
    "    nn.Linear(3, 2)     # Fourth the output layer\n",
    ")\n",
    "\n",
    "output = model(input_tensor)\n",
    "print(output)"
   ]
  },
  {
   "cell_type": "markdown",
   "metadata": {},
   "source": [
    "## There are multiple types of Layers\n",
    "\n",
    "1. Linear (Fully Connected) Layers\n",
    "2. Convolutional Layers\n",
    "3. Recurrent Layers (LSTM, GRU, Simple RNN)\n",
    "4. Pooling Layers (Max, Average, Global)\n",
    "5. Normalization Layers (Batch, Layer, Instance)\n",
    "6. Activation Layers (ReLU, Sigmoid, Tanh, Softmax)\n",
    "7. Dropout Layers\n",
    "8. Flatten Layers\n",
    "9. Embedding Layers\n",
    "10. Attention Layers\n",
    "11. Transformer Layers\n",
    "12. Residual Connections"
   ]
  },
  {
   "cell_type": "markdown",
   "metadata": {},
   "source": [
    "# Activation Functions\n",
    "**Activation Functions** add **non-linearity** to the network\n",
    "\n",
    "### Why do we need activation functions?\n",
    "Imagine a neural network as a big house with many rooms, and each neuron is like a light bulb in those rooms. Now, activation functions are like light switches for these bulbs.\n",
    "Without switches (activation functions), the lights would always be on or off at the same brightness. This is boring and not very useful!\n",
    "With switches (activation functions), we can control which lights are on, how bright they are, or even have dimmer switches for more control.\n",
    "This control allows our neural network \"house\" to create complex lighting patterns, just like how real neural networks can learn complex patterns in data.\n",
    "\n",
    "![Activation-layers](images/activation-layers.png)"
   ]
  },
  {
   "cell_type": "markdown",
   "metadata": {},
   "source": [
    "### Sigmoid function example with an Activation layer\n",
    "\n",
    "- We use Sigmoid for binary classification.\n",
    "- Sigmoid is used as the last step in network of linear layers is **equivalent** to tradtional logistic regression.\n",
    "\n",
    "![sigmoid-function-example](images/sigmoid-function-example.png)"
   ]
  },
  {
   "cell_type": "code",
   "execution_count": 45,
   "metadata": {},
   "outputs": [
    {
     "data": {
      "text/plain": [
       "tensor([0.9975])"
      ]
     },
     "execution_count": 45,
     "metadata": {},
     "output_type": "execute_result"
    }
   ],
   "source": [
    "import torch\n",
    "import torch.nn as nn\n",
    "\n",
    "input_tensor = torch.tensor([6])\n",
    "sigmoid = nn.Sigmoid()\n",
    "output = sigmoid(input_tensor)\n",
    "output"
   ]
  },
  {
   "cell_type": "code",
   "execution_count": 46,
   "metadata": {},
   "outputs": [
    {
     "data": {
      "text/plain": [
       "Sequential(\n",
       "  (0): Linear(in_features=6, out_features=4, bias=True)\n",
       "  (1): Linear(in_features=4, out_features=1, bias=True)\n",
       "  (2): Sigmoid()\n",
       ")"
      ]
     },
     "execution_count": 46,
     "metadata": {},
     "output_type": "execute_result"
    }
   ],
   "source": [
    "model = nn.Sequential(\n",
    "    nn.Linear(6, 4), # First Linear Layer\n",
    "    nn.Linear(4, 1), # Second Linear Layer\n",
    "    nn.Sigmoid() # Sigmoid Activation Function\n",
    ")\n",
    "model"
   ]
  },
  {
   "cell_type": "markdown",
   "metadata": {},
   "source": [
    "### Softmax as an Activation Layer\n",
    "\n",
    "![softmax-activation-function](images/softmax-activation-function.png)"
   ]
  },
  {
   "cell_type": "code",
   "execution_count": 47,
   "metadata": {},
   "outputs": [
    {
     "data": {
      "text/plain": [
       "tensor([[0.1392, 0.8420, 0.0188]])"
      ]
     },
     "execution_count": 47,
     "metadata": {},
     "output_type": "execute_result"
    }
   ],
   "source": [
    "import torch\n",
    "import torch.nn as nn\n",
    "\n",
    "# Creating an input tensor\n",
    "input_tensor = torch.tensor([[4.3, 6.1, 2.3]]) # 1. The outer brackets [ ] create a list, which represents a batch of inputs. The inner brackets [ ] represent a single sample within that batch. This structure creates a 2-dimensional tensor with the shape (1, 3), where: 1 is the batch size (number of samples) 3 is the number of features for each sample\n",
    "\n",
    "# Apply softmax along the last dimension\n",
    "probabilities = nn.Softmax(dim=1)\n",
    "output_tensor = probabilities(input_tensor)\n",
    "\n",
    "output_tensor"
   ]
  },
  {
   "cell_type": "markdown",
   "metadata": {},
   "source": [
    "# Exercise 1.6\n",
    "\n",
    "## The sigmoid and softmax functions\n",
    "The sigmoid and softmax functions are two of the most popular activation functions in deep learning. They are both usually used as the last step of a neural network. Sigmoid functions are used for binary classification problems, whereas softmax functions are often used for multi-class classification problems. This exercise will familiarize you with creating and using both functions.\n",
    "\n",
    "Let's say that you have a neural network that returned the values contained in the **score** tensor as a pre-activation output. You will apply activation functions to this output."
   ]
  },
  {
   "cell_type": "markdown",
   "metadata": {},
   "source": [
    "### Instructions 1/2\n",
    "\n",
    "Create a sigmoid function and apply it on input_tensor to generate a probability."
   ]
  },
  {
   "cell_type": "code",
   "execution_count": 48,
   "metadata": {},
   "outputs": [
    {
     "name": "stdout",
     "output_type": "stream",
     "text": [
      "tensor([[0.6900]])\n"
     ]
    }
   ],
   "source": [
    "import torch\n",
    "import torch.nn as nn\n",
    "\n",
    "input_tensor = torch.tensor([[0.8]])\n",
    "\n",
    "# Create a sigmoid function and apply it on input_tensor\n",
    "sigmoid = nn.Sigmoid()\n",
    "probability = sigmoid(input_tensor)\n",
    "print(probability)"
   ]
  },
  {
   "cell_type": "markdown",
   "metadata": {},
   "source": [
    "### Instruction 2/2\n",
    "\n",
    "Create a softmax function and apply it on input_tensor to generate a probability."
   ]
  },
  {
   "cell_type": "code",
   "execution_count": 49,
   "metadata": {},
   "outputs": [
    {
     "name": "stdout",
     "output_type": "stream",
     "text": [
      "tensor([[1.2828e-01, 1.1698e-04, 5.7492e-01, 3.4961e-02, 1.5669e-01, 1.0503e-01]])\n"
     ]
    }
   ],
   "source": [
    "import torch\n",
    "import torch.nn as nn\n",
    "\n",
    "input_tensor = torch.tensor([[1.0, -6.0, 2.5, -0.3, 1.2, 0.8]])\n",
    "\n",
    "# Create a sigmoid function and apply it on input_tensor\n",
    "softmax = nn.Softmax(dim=-1)\n",
    "probabilities = softmax(input_tensor)\n",
    "print(probabilities)"
   ]
  },
  {
   "cell_type": "markdown",
   "metadata": {},
   "source": [
    "# Forward and Backward Pass OR Forward and Backward Propogation\n",
    "---\n",
    "\n",
    "### What is a Forward Pass?\n",
    "A forward pass is like sending a message through a game of telephone, but with math. Imagine you and your friends are playing a game where you pass a message from one person to another, but each person changes the message a little bit based on some rules.\n",
    "In a neural network, the forward pass is the process of taking an input (like an image or a number) and passing it through all the layers of the network to get an output (like a prediction or classification).\n",
    "\n",
    "### Why is it Used and Important?\n",
    "The forward pass is used to make predictions or classifications. It's important because:\n",
    "It's how the network \"thinks\": Just like how your brain processes information to make decisions, the forward pass is how a neural network processes data to make predictions.\n",
    "It's the first step in learning: Before a network can learn, it needs to make a guess. The forward pass is that guess.\n",
    "It helps us understand what the network is doing: By following the forward pass, we can see how the network arrives at its conclusion.\n",
    "\n",
    "### An Analogy for Forward Pass\n",
    "Think of a forward pass like baking a cake:\n",
    "You start with ingredients (input data).\n",
    "You mix them in bowls (hidden layers) using recipes (weights and biases).\n",
    "You apply heat or cold (activation functions) at various stages.\n",
    "Finally, you get a cake (output) which might be great or might need improvement.\n",
    "The forward pass is just the baking process.\n",
    "\n",
    "### What is Back Propagation?\n",
    "Backpropagation is like playing a game of \"Hot and Cold\" with your neural network. Remember when you were a kid, and someone would hide an object, and you'd try to find it? They'd say \"warmer\" when you got closer and \"colder\" when you moved away. Backpropagation is similar, but instead of finding a hidden object, we're trying to find the best weights and biases for our neural network.\n",
    "\n",
    "### Why is it Used and Important?\n",
    "Backpropagation is the learning process of neural networks. It's important because:\n",
    "It teaches the network: Just like how you learn from your mistakes, backpropagation helps the network learn from its errors.\n",
    "It improves predictions: By adjusting weights and biases, the network gets better at making accurate predictions.\n",
    "It's efficient: Backpropagation is a smart way to calculate how each weight and bias affects the final error.\n",
    "\n",
    "### An Analogy for Back Propogation\n",
    "- You bake a cake (forward pass) and submit it to judges.\n",
    "- The judges taste it and give you a score (calculate error).\n",
    "- You then think back through your baking process (backpropagation):\n",
    "- Was it too sweet? Maybe use less sugar next time.\n",
    "- Too dry? Perhaps adjust the baking time.\n",
    "- Not chocolatey enough? Increase the cocoa powder.\n",
    "- You make these small adjustments to your recipe (update weights and biases).\n",
    "- You bake again, hoping for a better cake (and a better score) next time."
   ]
  },
  {
   "cell_type": "markdown",
   "metadata": {},
   "source": [
    "## Binary Classification: Forward Propogation"
   ]
  },
  {
   "cell_type": "code",
   "execution_count": 50,
   "metadata": {},
   "outputs": [
    {
     "name": "stdout",
     "output_type": "stream",
     "text": [
      "Sequential(\n",
      "  (0): Linear(in_features=6, out_features=4, bias=True)\n",
      "  (1): Linear(in_features=4, out_features=1, bias=True)\n",
      "  (2): Sigmoid()\n",
      ")\n",
      "tensor([[0.3831],\n",
      "        [0.4491],\n",
      "        [0.4073],\n",
      "        [0.4218],\n",
      "        [0.4055]], grad_fn=<SigmoidBackward0>)\n"
     ]
    }
   ],
   "source": [
    "## Create input data of shape 5x6\n",
    "input_data = torch.tensor([\n",
    "    [ 0.4823, -0.2314,  0.7651, -0.5982,  0.1245,  0.8976],\n",
    "    [-0.7634,  0.3217, -0.9012,  0.5678, -0.1543,  0.6789],\n",
    "    [ 0.2345, -0.8765,  0.4321, -0.6543,  0.9876, -0.3210],\n",
    "    [-0.1111,  0.2222, -0.3333,  0.4444, -0.5555,  0.6666],\n",
    "    [ 0.7890, -0.4567,  0.1234, -0.9876,  0.5432, -0.2109]\n",
    "])\n",
    "\n",
    "# create a binary classification model\n",
    "model = nn.Sequential(\n",
    "    nn.Linear(6, 4),\n",
    "    nn.Linear(4, 1),\n",
    "    nn.Sigmoid()\n",
    ")\n",
    "\n",
    "output = model(input_data)\n",
    "\n",
    "print(model)\n",
    "print(output)"
   ]
  },
  {
   "cell_type": "markdown",
   "metadata": {},
   "source": [
    "## Multi-class classification: forward pass"
   ]
  },
  {
   "cell_type": "code",
   "execution_count": 51,
   "metadata": {},
   "outputs": [
    {
     "name": "stdout",
     "output_type": "stream",
     "text": [
      "torch.Size([5, 3])\n",
      "Each row here sums up to 1: tensor([[0.2839, 0.4905, 0.2256],\n",
      "        [0.2082, 0.5371, 0.2547],\n",
      "        [0.3156, 0.4639, 0.2205],\n",
      "        [0.2401, 0.5268, 0.2330],\n",
      "        [0.3112, 0.4744, 0.2145]], grad_fn=<SoftmaxBackward0>)\n",
      "Sum of each row: tensor([1.0000, 1.0000, 1.0000, 1.0000, 1.0000], grad_fn=<SumBackward1>)\n",
      "Each row is a unique feature called a class like Row 1 = class 1 (mammal), row 2 = class 1 (mammal), row 3 = class 3 (reptile)\n"
     ]
    }
   ],
   "source": [
    "## Create input data of shape 5x6\n",
    "input_data = torch.tensor([\n",
    "    [ 0.4823, -0.2314,  0.7651, -0.5982,  0.1245,  0.8976],\n",
    "    [-0.7634,  0.3217, -0.9012,  0.5678, -0.1543,  0.6789],\n",
    "    [ 0.2345, -0.8765,  0.4321, -0.6543,  0.9876, -0.3210],\n",
    "    [-0.1111,  0.2222, -0.3333,  0.4444, -0.5555,  0.6666],\n",
    "    [ 0.7890, -0.4567,  0.1234, -0.9876,  0.5432, -0.2109]\n",
    "])\n",
    "\n",
    "# Specify model has three classes\n",
    "n_classes = 3\n",
    "\n",
    "# Create multiclass classification model\n",
    "model = nn.Sequential(\n",
    "    nn.Linear(6, 4), # First linear layer \n",
    "    nn.Linear(4, n_classes), # Second linear Layer \n",
    "    nn.Softmax(dim=-1) # Softmax activation\n",
    ")\n",
    "\n",
    "# Pass input data through model\n",
    "output = model (input_data)\n",
    "print(output.shape)\n",
    "\n",
    "print('Each row here sums up to 1:', output)\n",
    "print('Sum of each row:', output.sum(dim=1))\n",
    "print('Each row is a unique feature called a class like Row 1 = class 1 (mammal), row 2 = class 1 (mammal), row 3 = class 3 (reptile)')"
   ]
  },
  {
   "cell_type": "markdown",
   "metadata": {},
   "source": [
    "## Regression: Forward Propogation\n",
    "Below the code does not have an activation function, and the last layer's last dimension returns an output with one feature."
   ]
  },
  {
   "cell_type": "code",
   "execution_count": 52,
   "metadata": {},
   "outputs": [
    {
     "name": "stdout",
     "output_type": "stream",
     "text": [
      "tensor([[0.0950],\n",
      "        [0.5361],\n",
      "        [0.0685],\n",
      "        [0.4833],\n",
      "        [0.1317]], grad_fn=<AddmmBackward0>)\n"
     ]
    }
   ],
   "source": [
    "## Create input data of shape 5x6\n",
    "input_data = torch.tensor([\n",
    "    [ 0.4823, -0.2314,  0.7651, -0.5982,  0.1245,  0.8976],\n",
    "    [-0.7634,  0.3217, -0.9012,  0.5678, -0.1543,  0.6789],\n",
    "    [ 0.2345, -0.8765,  0.4321, -0.6543,  0.9876, -0.3210],\n",
    "    [-0.1111,  0.2222, -0.3333,  0.4444, -0.5555,  0.6666],\n",
    "    [ 0.7890, -0.4567,  0.1234, -0.9876,  0.5432, -0.2109]\n",
    "])\n",
    "\n",
    "# Create regression model\n",
    "model = nn.Sequential(\n",
    "    nn.Linear(6, 4), # First linear layer \n",
    "    nn.Linear(4, 1) # Second linear layer\n",
    ")\n",
    "\n",
    "# Pass input data through model\n",
    "output = model(input_data)\n",
    "\n",
    "# Return output\n",
    "print(output)"
   ]
  },
  {
   "cell_type": "markdown",
   "metadata": {},
   "source": [
    "## Exercise 2.1\n",
    "\n",
    "### Building a binary classifier in PyTorch\n",
    "Recall that a small neural network with a single linear layer followed by a sigmoid function is a binary classifier. It acts just like a logistic regression.\n",
    "\n",
    "In this exercise, you'll practice building this small network and interpreting the output of the classifier.\n",
    "\n",
    "The torch package and the torch.nn package have already been imported for you.\n",
    "\n",
    "Instruction-\n",
    "\n",
    "- Create a neural network that takes a tensor of dimensions 1x8 as input, and returns an output of the correct shape for binary classification.\n",
    "- Pass the output of the linear layer to a sigmoid, which both takes in and return a single float."
   ]
  },
  {
   "cell_type": "code",
   "execution_count": 59,
   "metadata": {},
   "outputs": [
    {
     "name": "stdout",
     "output_type": "stream",
     "text": [
      "tensor([[0.9405]], grad_fn=<SigmoidBackward0>)\n"
     ]
    }
   ],
   "source": [
    "import torch\n",
    "import torch.nn as nn\n",
    "\n",
    "input_tensor = torch.Tensor([[3, 4, 6, 2, 3, 6, 8, 9]])\n",
    "\n",
    "# Implement a small neural network for binary classification\n",
    "model = nn.Sequential(\n",
    "  nn.Linear(8, 1),\n",
    "  nn.Sigmoid()\n",
    ")\n",
    "\n",
    "output = model(input_tensor)\n",
    "print(output)"
   ]
  },
  {
   "cell_type": "markdown",
   "metadata": {},
   "source": [
    "## Exercise 2.2\n",
    "\n",
    "### From regression to multi-class classification\n",
    "Recall that the models we have seen for binary classification, multi-class classification and regression have all been similar, barring a few tweaks to the model.\n",
    "\n",
    "In this exercise, you'll start by building a model for regression, and then tweak the model to perform a multi-class classification."
   ]
  },
  {
   "cell_type": "markdown",
   "metadata": {},
   "source": [
    "### Instructions 1/2\n",
    "Create a neural network with exactly four linear layers, which takes the input tensor as input, and outputs a regression value, using any shapes you like for the hidden layers."
   ]
  },
  {
   "cell_type": "code",
   "execution_count": 54,
   "metadata": {},
   "outputs": [
    {
     "name": "stdout",
     "output_type": "stream",
     "text": [
      "tensor([[0.2656]], grad_fn=<AddmmBackward0>)\n"
     ]
    }
   ],
   "source": [
    "import torch\n",
    "import torch.nn as nn\n",
    "\n",
    "input_tensor = torch.Tensor([[3, 4, 6, 7, 10, 12, 2, 3, 6, 8, 9]])\n",
    "\n",
    "# Implement a neural network with exactly four linear layers\n",
    "model = nn.Sequential(\n",
    "    nn.Linear(11, 4),\n",
    "    nn.Linear(4, 5),\n",
    "    nn.Linear(5, 9),\n",
    "    nn.Linear(9, 1)\n",
    ")\n",
    "\n",
    "output = model(input_tensor)\n",
    "print(output)"
   ]
  },
  {
   "cell_type": "markdown",
   "metadata": {},
   "source": [
    "Explanation for the code above-\n",
    "\n",
    "Why do we need '1' at the end of the last linear layer?\n",
    "![Exercise2.2-instruction1](images/Exercise2.2-instruction1.png)\n",
    "\n",
    "\n",
    "Here's why we use 1 as the output in the last layer?\n",
    "\n",
    "***Purpose of Regression***: In regression, we're trying to predict a single continuous value. Think of it like predicting the price of a house or the temperature tomorrow.\n",
    "Single Output: The last layer outputs just one number because that's all we need for regression. It's like having a single thermometer to measure temperature.\n",
    "No Activation Function: Notice there's no activation function after the last layer. In regression, we often want the raw output value, which can be any real number."
   ]
  },
  {
   "cell_type": "markdown",
   "metadata": {},
   "source": [
    "### Instructions 2/2\n",
    "A similar neural network to the one you just built is provided, containing four linear layers; update this network to perform a multi-class classification with four outputs."
   ]
  },
  {
   "cell_type": "code",
   "execution_count": 58,
   "metadata": {},
   "outputs": [
    {
     "name": "stdout",
     "output_type": "stream",
     "text": [
      "tensor([[0.3458, 0.2022, 0.0830, 0.3690]], grad_fn=<SoftmaxBackward0>)\n"
     ]
    }
   ],
   "source": [
    "import torch\n",
    "import torch.nn as nn\n",
    "\n",
    "input_tensor = torch.Tensor([[3, 4, 6, 7, 10, 12, 2, 3, 6, 8, 9]])\n",
    "\n",
    "# Implement a neural network with exactly four linear layers\n",
    "model = nn.Sequential(\n",
    "    nn.Linear(11, 4),\n",
    "    nn.Linear(4, 5),\n",
    "    nn.Linear(5, 9),\n",
    "    nn.Linear(9, 1),\n",
    "    nn.Softmax(dim=-1)\n",
    ")\n",
    "\n",
    "output = model(input_tensor)\n",
    "print(output)"
   ]
  },
  {
   "cell_type": "markdown",
   "metadata": {},
   "source": [
    "### Explanation for the code above\n",
    "\n",
    "For the second part, we're adapting the model for multi-class classification. \n",
    "\n",
    "Here's why we change the last layer to output 4 values and add a Softmax:\n",
    "![Exercise2.2-instruction2](images/Exercise2.2-instruction2.png)\n",
    "\n",
    "1. **Purpose of Classification**: In multi-class classification, we're trying to categorize input into one of several classes. Imagine sorting fruits into apples, oranges, bananas, and pears.\n",
    "\n",
    "2. **Multiple Outputs**: The last layer now outputs 4 numbers because we have 4 possible classes. It's like having 4 baskets, one for each type of fruit.\n",
    "\n",
    "3. **Softmax Activation**: We add a Softmax layer at the end. This turns the 4 numbers into probabilities that sum to 1. It's like saying, \"There's a 70% chance this is an apple, 20% orange, 5% banana, and 5% pear.\"\n",
    "\n",
    "4. **Why 4 Outputs**: The number of outputs in the last layer should match the number of classes in your problem. If you're classifying among 4 types of fruit, you need 4 outputs."
   ]
  },
  {
   "cell_type": "code",
   "execution_count": null,
   "metadata": {},
   "outputs": [],
   "source": []
  }
 ],
 "metadata": {
  "kernelspec": {
   "display_name": "Python 3",
   "language": "python",
   "name": "python3"
  },
  "language_info": {
   "codemirror_mode": {
    "name": "ipython",
    "version": 3
   },
   "file_extension": ".py",
   "mimetype": "text/x-python",
   "name": "python",
   "nbconvert_exporter": "python",
   "pygments_lexer": "ipython3",
   "version": "3.11.9"
  }
 },
 "nbformat": 4,
 "nbformat_minor": 2
}
